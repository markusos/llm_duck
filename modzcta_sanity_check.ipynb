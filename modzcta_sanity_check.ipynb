{
 "cells": [
  {
   "cell_type": "code",
   "execution_count": 2,
   "id": "a800d748",
   "metadata": {},
   "outputs": [
    {
     "data": {
      "text/html": [
       "<span style=\"None\">Loading configurations from /Users/markus/code/llm_duck/pyproject.toml.</span>"
      ],
      "text/plain": [
       "Loading configurations from /Users/markus/code/llm_duck/pyproject.toml."
      ]
     },
     "metadata": {},
     "output_type": "display_data"
    },
    {
     "data": {
      "text/html": [
       "<span style=\"None\">Settings changed:</span>"
      ],
      "text/plain": [
       "Settings changed:"
      ]
     },
     "metadata": {},
     "output_type": "display_data"
    },
    {
     "data": {
      "text/html": [
       "\n",
       "<table>\n",
       "    <thead>\n",
       "        <tr>\n",
       "            <th>Config</th>\n",
       "            <th>value</th>\n",
       "        </tr>\n",
       "    </thead>\n",
       "    <tbody>\n",
       "        <tr>\n",
       "            <td>feedback</td>\n",
       "            <td>True</td>\n",
       "        </tr>\n",
       "        <tr>\n",
       "            <td>autopandas</td>\n",
       "            <td>True</td>\n",
       "        </tr>\n",
       "    </tbody>\n",
       "</table>"
      ],
      "text/plain": [
       "\n",
       "+------------+-------+\n",
       "|   Config   | value |\n",
       "+------------+-------+\n",
       "|  feedback  |  True |\n",
       "| autopandas |  True |\n",
       "+------------+-------+"
      ]
     },
     "metadata": {},
     "output_type": "display_data"
    },
    {
     "data": {
      "text/html": [
       "<span style=\"None\">Running query in &#x27;duckdb&#x27;</span>"
      ],
      "text/plain": [
       "Running query in 'duckdb'"
      ]
     },
     "metadata": {},
     "output_type": "display_data"
    },
    {
     "data": {
      "text/html": [
       "<span style=\"None\">Running query in &#x27;duckdb&#x27;</span>"
      ],
      "text/plain": [
       "Running query in 'duckdb'"
      ]
     },
     "metadata": {},
     "output_type": "display_data"
    },
    {
     "data": {
      "text/html": [
       "<div>\n",
       "<style scoped>\n",
       "    .dataframe tbody tr th:only-of-type {\n",
       "        vertical-align: middle;\n",
       "    }\n",
       "\n",
       "    .dataframe tbody tr th {\n",
       "        vertical-align: top;\n",
       "    }\n",
       "\n",
       "    .dataframe thead th {\n",
       "        text-align: right;\n",
       "    }\n",
       "</style>\n",
       "<table border=\"1\" class=\"dataframe\">\n",
       "  <thead>\n",
       "    <tr style=\"text-align: right;\">\n",
       "      <th></th>\n",
       "      <th>Success</th>\n",
       "    </tr>\n",
       "  </thead>\n",
       "  <tbody>\n",
       "  </tbody>\n",
       "</table>\n",
       "</div>"
      ],
      "text/plain": [
       "Empty DataFrame\n",
       "Columns: [Success]\n",
       "Index: []"
      ]
     },
     "execution_count": 2,
     "metadata": {},
     "output_type": "execute_result"
    }
   ],
   "source": [
    "import duckdb\n",
    "\n",
    "%load_ext sql\n",
    "conn = duckdb.connect(database=\":memory:\", read_only=False)\n",
    "\n",
    "%sql conn --alias duckdb\n",
    "%sql INSTALL spatial;\n",
    "%sql LOAD spatial;"
   ]
  },
  {
   "cell_type": "code",
   "execution_count": 3,
   "id": "a812f253",
   "metadata": {},
   "outputs": [
    {
     "data": {
      "text/html": [
       "<span style=\"None\">Running query in &#x27;duckdb&#x27;</span>"
      ],
      "text/plain": [
       "Running query in 'duckdb'"
      ]
     },
     "metadata": {},
     "output_type": "display_data"
    },
    {
     "data": {
      "text/html": [
       "<div>\n",
       "<style scoped>\n",
       "    .dataframe tbody tr th:only-of-type {\n",
       "        vertical-align: middle;\n",
       "    }\n",
       "\n",
       "    .dataframe tbody tr th {\n",
       "        vertical-align: top;\n",
       "    }\n",
       "\n",
       "    .dataframe thead th {\n",
       "        text-align: right;\n",
       "    }\n",
       "</style>\n",
       "<table border=\"1\" class=\"dataframe\">\n",
       "  <thead>\n",
       "    <tr style=\"text-align: right;\">\n",
       "      <th></th>\n",
       "      <th>Count</th>\n",
       "    </tr>\n",
       "  </thead>\n",
       "  <tbody>\n",
       "    <tr>\n",
       "      <th>0</th>\n",
       "      <td>178</td>\n",
       "    </tr>\n",
       "  </tbody>\n",
       "</table>\n",
       "</div>"
      ],
      "text/plain": [
       "   Count\n",
       "0    178"
      ]
     },
     "execution_count": 3,
     "metadata": {},
     "output_type": "execute_result"
    }
   ],
   "source": [
    "%%sql\n",
    "# This script creates tables for service requests and MODZCTA data from the City of New York.\n",
    "# The service requests data is loaded from a Parquet file, and the MODZCTA data is loaded from a CSV file.\n",
    "\n",
    "\n",
    "CREATE OR REPLACE TABLE service_requests_2024 AS\n",
    "    SELECT *, ST_Point(longitude, latitude) as geo_point FROM './data/cityofnewyork/service_requests_2024.parquet';\n",
    "\n",
    "CREATE OR REPLACE TABLE modzcta AS\n",
    "    SELECT \n",
    "        MODZCTA,\n",
    "        label,\n",
    "        STRING_SPLIT(ZCTA, ', ') AS ZCTA,\n",
    "        pop_est, \n",
    "        the_geom,\n",
    "        ST_GeomFromText(the_geom) AS geom\n",
    "    FROM './data/cityofnewyork/modzcta.parquet'\n"
   ]
  },
  {
   "cell_type": "code",
   "execution_count": null,
   "id": "d625d041",
   "metadata": {},
   "outputs": [
    {
     "data": {
      "text/html": [
       "<span style=\"None\">Running query in &#x27;duckdb&#x27;</span>"
      ],
      "text/plain": [
       "Running query in 'duckdb'"
      ]
     },
     "metadata": {},
     "output_type": "display_data"
    },
    {
     "data": {
      "text/html": [
       "<div>\n",
       "<style scoped>\n",
       "    .dataframe tbody tr th:only-of-type {\n",
       "        vertical-align: middle;\n",
       "    }\n",
       "\n",
       "    .dataframe tbody tr th {\n",
       "        vertical-align: top;\n",
       "    }\n",
       "\n",
       "    .dataframe thead th {\n",
       "        text-align: right;\n",
       "    }\n",
       "</style>\n",
       "<table border=\"1\" class=\"dataframe\">\n",
       "  <thead>\n",
       "    <tr style=\"text-align: right;\">\n",
       "      <th></th>\n",
       "      <th>Count</th>\n",
       "    </tr>\n",
       "  </thead>\n",
       "  <tbody>\n",
       "    <tr>\n",
       "      <th>0</th>\n",
       "      <td>3446563</td>\n",
       "    </tr>\n",
       "  </tbody>\n",
       "</table>\n",
       "</div>"
      ],
      "text/plain": [
       "     Count\n",
       "0  3446563"
      ]
     },
     "execution_count": 3,
     "metadata": {},
     "output_type": "execute_result"
    }
   ],
   "source": [
    "%%sql\n",
    "# This script creates a new table that combines service requests with MODZCTA data.\n",
    "# The service requests are joined with the MODZCTA data based on the geographic point of the service request and based of the ZCTA.\n",
    "# This will be useful for analyzing service requests in relation to the MODZCTA areas\n",
    "\n",
    "COPY (\n",
    "        SELECT \n",
    "                sr.*,\n",
    "                m1.MODZCTA AS MODZCTA_1,\n",
    "                m1.label AS label_1,\n",
    "                m1.ZCTA AS ZCTA_1,\n",
    "                m1.pop_est AS pop_est_1,\n",
    "                m2.MODZCTA AS MODZCTA_2,\n",
    "                m2.label AS label_2,\n",
    "                m2.ZCTA AS ZCTA_2,\n",
    "                m2.pop_est AS pop_est_2\n",
    "        FROM service_requests_2024 sr\n",
    "        LEFT JOIN modzcta m1\n",
    "                ON ST_Within(sr.geo_point, m1.geom)\n",
    "        LEFT JOIN modzcta m2 \n",
    "                ON array_contains(m2.ZCTA, sr.incident_zip)\n",
    "        LIMIT 3500000\n",
    ") TO \"./data/cityofnewyork/service_requests_2024_modzcta.parquet\"\n",
    "(FORMAT PARQUET, COMPRESSION SNAPPY);"
   ]
  },
  {
   "cell_type": "code",
   "execution_count": 12,
   "id": "e7493db9",
   "metadata": {},
   "outputs": [
    {
     "data": {
      "text/html": [
       "<span style=\"None\">Running query in &#x27;duckdb&#x27;</span>"
      ],
      "text/plain": [
       "Running query in 'duckdb'"
      ]
     },
     "metadata": {},
     "output_type": "display_data"
    },
    {
     "data": {
      "text/html": [
       "<div>\n",
       "<style scoped>\n",
       "    .dataframe tbody tr th:only-of-type {\n",
       "        vertical-align: middle;\n",
       "    }\n",
       "\n",
       "    .dataframe tbody tr th {\n",
       "        vertical-align: top;\n",
       "    }\n",
       "\n",
       "    .dataframe thead th {\n",
       "        text-align: right;\n",
       "    }\n",
       "</style>\n",
       "<table border=\"1\" class=\"dataframe\">\n",
       "  <thead>\n",
       "    <tr style=\"text-align: right;\">\n",
       "      <th></th>\n",
       "      <th>Count</th>\n",
       "    </tr>\n",
       "  </thead>\n",
       "  <tbody>\n",
       "    <tr>\n",
       "      <th>0</th>\n",
       "      <td>3446563</td>\n",
       "    </tr>\n",
       "  </tbody>\n",
       "</table>\n",
       "</div>"
      ],
      "text/plain": [
       "     Count\n",
       "0  3446563"
      ]
     },
     "execution_count": 12,
     "metadata": {},
     "output_type": "execute_result"
    }
   ],
   "source": [
    "%%sql\n",
    "\n",
    "CREATE OR REPLACE TABLE service_requests_2024_modzcta AS \n",
    "    SELECT * \n",
    "    FROM \"./data/cityofnewyork/service_requests_2024_modzcta.parquet\""
   ]
  },
  {
   "cell_type": "markdown",
   "id": "82a57b06",
   "metadata": {},
   "source": [
    "# Assumptions About MODZCTA and Zip That May Not Be True\n",
    "\n",
    "1. **One-to-One Mapping Between MODZCTA and Zip Codes**:\n",
    "    - It is assumed that each MODZCTA corresponds to a unique set of zip codes. However, in reality, zip codes may overlap multiple MODZCTA areas, or a single MODZCTA may encompass multiple zip codes.\n",
    "\n",
    "2. **Geometric Containment of Zip Codes Within MODZCTA**:\n",
    "    - The assumption that all points within a zip code's boundary are contained within the corresponding MODZCTA boundary may not hold true. Zip code boundaries and MODZCTA boundaries are defined independently and may not align perfectly.\n",
    "\n",
    "3. **Uniform Population Distribution Within MODZCTA**:\n",
    "    - It is often assumed that the population is evenly distributed across a MODZCTA area. In practice, population density can vary significantly within the same MODZCTA.\n",
    "\n",
    "4. **Static Boundaries**:\n",
    "    - The assumption that MODZCTA and zip code boundaries remain constant over time may not be accurate. Boundaries can change due to administrative updates or urban development.\n",
    "\n",
    "5. **Complete Data Availability**:\n",
    "    - It is assumed that all service requests have valid longitude, latitude, and zip code information. However, missing or incorrect data can lead to inaccuracies in analysis.\n",
    "\n",
    "6. **Spatial Accuracy of MODZCTA Geometry**:\n",
    "    - The MODZCTA geometry data is assumed to be precise and accurate. In reality, the geometry may have simplifications or inaccuracies that affect spatial calculations.\n",
    "\n",
    "7. **Zip Code as a Reliable Proxy for Location**:\n",
    "    - Using zip codes as a proxy for precise locations assumes that all service requests within a zip code are spatially close. This may not be true for large or irregularly shaped zip code areas.\n",
    "\n",
    "8. **No Overlapping MODZCTA Areas**:\n",
    "    - It is assumed that MODZCTA areas do not overlap. However, there could be cases where boundaries intersect, leading to ambiguity in spatial joins.\n",
    "\n",
    "9. **Service Requests Are Always Within MODZCTA**:\n",
    "    - The assumption that all service requests fall within a MODZCTA boundary may not hold true, especially for locations near the edges of the city or in areas with incomplete MODZCTA coverage.\n",
    "\n",
    "10. **Uniform Data Quality Across Sources**:\n",
    "     - It is assumed that data from different sources (e.g., MODZCTA geometry, service requests) is of consistent quality and format. Variations in data quality can introduce errors in analysis."
   ]
  },
  {
   "cell_type": "code",
   "execution_count": 36,
   "id": "34212013",
   "metadata": {},
   "outputs": [
    {
     "data": {
      "text/html": [
       "<span style=\"None\">Running query in &#x27;duckdb&#x27;</span>"
      ],
      "text/plain": [
       "Running query in 'duckdb'"
      ]
     },
     "metadata": {},
     "output_type": "display_data"
    },
    {
     "data": {
      "text/html": [
       "<div>\n",
       "<style scoped>\n",
       "    .dataframe tbody tr th:only-of-type {\n",
       "        vertical-align: middle;\n",
       "    }\n",
       "\n",
       "    .dataframe tbody tr th {\n",
       "        vertical-align: top;\n",
       "    }\n",
       "\n",
       "    .dataframe thead th {\n",
       "        text-align: right;\n",
       "    }\n",
       "</style>\n",
       "<table border=\"1\" class=\"dataframe\">\n",
       "  <thead>\n",
       "    <tr style=\"text-align: right;\">\n",
       "      <th></th>\n",
       "      <th>unique_key</th>\n",
       "      <th>match_count</th>\n",
       "      <th>modzctas</th>\n",
       "    </tr>\n",
       "  </thead>\n",
       "  <tbody>\n",
       "  </tbody>\n",
       "</table>\n",
       "</div>"
      ],
      "text/plain": [
       "Empty DataFrame\n",
       "Columns: [unique_key, match_count, modzctas]\n",
       "Index: []"
      ]
     },
     "execution_count": 36,
     "metadata": {},
     "output_type": "execute_result"
    }
   ],
   "source": [
    "%%sql\n",
    "-- Check for duplicates in service_requests_2024_modzcta\n",
    "SELECT \n",
    "    unique_key,\n",
    "    COUNT(*) as match_count,\n",
    "    STRING_AGG(DISTINCT MODZCTA_1, ', ') as modzctas\n",
    "FROM service_requests_2024_modzcta\n",
    "GROUP BY unique_key\n",
    "HAVING COUNT(*) > 1\n",
    "ORDER BY match_count DESC\n",
    "LIMIT 5;"
   ]
  },
  {
   "cell_type": "code",
   "execution_count": 40,
   "id": "1bf93550",
   "metadata": {},
   "outputs": [
    {
     "data": {
      "text/html": [
       "<span style=\"None\">Running query in &#x27;duckdb&#x27;</span>"
      ],
      "text/plain": [
       "Running query in 'duckdb'"
      ]
     },
     "metadata": {},
     "output_type": "display_data"
    },
    {
     "data": {
      "text/html": [
       "<div>\n",
       "<style scoped>\n",
       "    .dataframe tbody tr th:only-of-type {\n",
       "        vertical-align: middle;\n",
       "    }\n",
       "\n",
       "    .dataframe tbody tr th {\n",
       "        vertical-align: top;\n",
       "    }\n",
       "\n",
       "    .dataframe thead th {\n",
       "        text-align: right;\n",
       "    }\n",
       "</style>\n",
       "<table border=\"1\" class=\"dataframe\">\n",
       "  <thead>\n",
       "    <tr style=\"text-align: right;\">\n",
       "      <th></th>\n",
       "      <th>missing_zip_percentage</th>\n",
       "      <th>missing_geo_point_percentage</th>\n",
       "      <th>missmatch_percentage</th>\n",
       "      <th>missing_modzcta_1_percentage</th>\n",
       "      <th>missing_modzcta_2_percentage</th>\n",
       "      <th>missing_all_modzcta_percentage</th>\n",
       "    </tr>\n",
       "  </thead>\n",
       "  <tbody>\n",
       "    <tr>\n",
       "      <th>0</th>\n",
       "      <td>0.995223</td>\n",
       "      <td>1.552155</td>\n",
       "      <td>3.374231</td>\n",
       "      <td>1.037062</td>\n",
       "      <td>0.935744</td>\n",
       "      <td>0.549098</td>\n",
       "    </tr>\n",
       "  </tbody>\n",
       "</table>\n",
       "</div>"
      ],
      "text/plain": [
       "   missing_zip_percentage  missing_geo_point_percentage  missmatch_percentage  \\\n",
       "0                0.995223                      1.552155              3.374231   \n",
       "\n",
       "   missing_modzcta_1_percentage  missing_modzcta_2_percentage  \\\n",
       "0                      1.037062                      0.935744   \n",
       "\n",
       "   missing_all_modzcta_percentage  \n",
       "0                        0.549098  "
      ]
     },
     "execution_count": 40,
     "metadata": {},
     "output_type": "execute_result"
    }
   ],
   "source": [
    "%%sql\n",
    "\n",
    "SELECT \n",
    "count_if(incident_zip IS NULL) / count(*) * 100 as missing_zip_percentage,\n",
    "count_if(geo_point IS NULL) / count(*) * 100 as missing_geo_point_percentage,\n",
    "count_if(MODZCTA_1 != MODZCTA_2) / count(*) * 100 as missmatch_percentage,\n",
    "count_if(MODZCTA_1 IS NULL and MODZCTA_2 IS NOT NULL) / count(*) * 100 as missing_modzcta_1_percentage,\n",
    "count_if(MODZCTA_2 IS NULL and MODZCTA_1 IS NOT NULL) / count(*) * 100 as missing_modzcta_2_percentage,\n",
    "count_if(MODZCTA_2 IS NULL and MODZCTA_1 IS NULL) / count(*) * 100 as missing_all_modzcta_percentage\n",
    "FROM service_requests_2024_modzcta;\n"
   ]
  },
  {
   "cell_type": "markdown",
   "id": "9271e1ba",
   "metadata": {},
   "source": [
    "If it's acceptable to have a error rate around a few percentage points in matching of MODZCTA to service requests we can just use the simpler ZCTA to incident_zip mapping instead of the more complex geometry matching."
   ]
  },
  {
   "cell_type": "code",
   "execution_count": 29,
   "id": "c666bb79",
   "metadata": {},
   "outputs": [
    {
     "data": {
      "text/html": [
       "<span style=\"None\">Running query in &#x27;duckdb&#x27;</span>"
      ],
      "text/plain": [
       "Running query in 'duckdb'"
      ]
     },
     "metadata": {},
     "output_type": "display_data"
    },
    {
     "data": {
      "text/html": [
       "<div>\n",
       "<style scoped>\n",
       "    .dataframe tbody tr th:only-of-type {\n",
       "        vertical-align: middle;\n",
       "    }\n",
       "\n",
       "    .dataframe tbody tr th {\n",
       "        vertical-align: top;\n",
       "    }\n",
       "\n",
       "    .dataframe thead th {\n",
       "        text-align: right;\n",
       "    }\n",
       "</style>\n",
       "<table border=\"1\" class=\"dataframe\">\n",
       "  <thead>\n",
       "    <tr style=\"text-align: right;\">\n",
       "      <th></th>\n",
       "      <th>modzcta_a</th>\n",
       "      <th>modzcta_b</th>\n",
       "      <th>intersection_area</th>\n",
       "    </tr>\n",
       "  </thead>\n",
       "  <tbody>\n",
       "    <tr>\n",
       "      <th>0</th>\n",
       "      <td>11369</td>\n",
       "      <td>11370</td>\n",
       "      <td>2.654072e-09</td>\n",
       "    </tr>\n",
       "    <tr>\n",
       "      <th>1</th>\n",
       "      <td>10306</td>\n",
       "      <td>99999</td>\n",
       "      <td>2.390592e-09</td>\n",
       "    </tr>\n",
       "    <tr>\n",
       "      <th>2</th>\n",
       "      <td>10467</td>\n",
       "      <td>10470</td>\n",
       "      <td>1.032203e-09</td>\n",
       "    </tr>\n",
       "    <tr>\n",
       "      <th>3</th>\n",
       "      <td>10025</td>\n",
       "      <td>10027</td>\n",
       "      <td>1.011663e-09</td>\n",
       "    </tr>\n",
       "    <tr>\n",
       "      <th>4</th>\n",
       "      <td>11216</td>\n",
       "      <td>11221</td>\n",
       "      <td>8.382825e-10</td>\n",
       "    </tr>\n",
       "    <tr>\n",
       "      <th>5</th>\n",
       "      <td>11693</td>\n",
       "      <td>11694</td>\n",
       "      <td>7.709317e-10</td>\n",
       "    </tr>\n",
       "    <tr>\n",
       "      <th>6</th>\n",
       "      <td>10456</td>\n",
       "      <td>10459</td>\n",
       "      <td>7.541158e-10</td>\n",
       "    </tr>\n",
       "    <tr>\n",
       "      <th>7</th>\n",
       "      <td>11210</td>\n",
       "      <td>11230</td>\n",
       "      <td>7.001994e-10</td>\n",
       "    </tr>\n",
       "    <tr>\n",
       "      <th>8</th>\n",
       "      <td>11432</td>\n",
       "      <td>11435</td>\n",
       "      <td>6.133498e-10</td>\n",
       "    </tr>\n",
       "    <tr>\n",
       "      <th>9</th>\n",
       "      <td>11207</td>\n",
       "      <td>11236</td>\n",
       "      <td>5.340508e-10</td>\n",
       "    </tr>\n",
       "    <tr>\n",
       "      <th>10</th>\n",
       "      <td>10027</td>\n",
       "      <td>10037</td>\n",
       "      <td>4.080171e-10</td>\n",
       "    </tr>\n",
       "    <tr>\n",
       "      <th>11</th>\n",
       "      <td>11370</td>\n",
       "      <td>11377</td>\n",
       "      <td>3.963302e-10</td>\n",
       "    </tr>\n",
       "    <tr>\n",
       "      <th>12</th>\n",
       "      <td>11355</td>\n",
       "      <td>11367</td>\n",
       "      <td>5.751191e-11</td>\n",
       "    </tr>\n",
       "    <tr>\n",
       "      <th>13</th>\n",
       "      <td>11362</td>\n",
       "      <td>11363</td>\n",
       "      <td>1.981677e-11</td>\n",
       "    </tr>\n",
       "    <tr>\n",
       "      <th>14</th>\n",
       "      <td>10460</td>\n",
       "      <td>10472</td>\n",
       "      <td>1.983751e-12</td>\n",
       "    </tr>\n",
       "    <tr>\n",
       "      <th>15</th>\n",
       "      <td>10309</td>\n",
       "      <td>10312</td>\n",
       "      <td>1.588337e-12</td>\n",
       "    </tr>\n",
       "  </tbody>\n",
       "</table>\n",
       "</div>"
      ],
      "text/plain": [
       "   modzcta_a modzcta_b  intersection_area\n",
       "0      11369     11370       2.654072e-09\n",
       "1      10306     99999       2.390592e-09\n",
       "2      10467     10470       1.032203e-09\n",
       "3      10025     10027       1.011663e-09\n",
       "4      11216     11221       8.382825e-10\n",
       "5      11693     11694       7.709317e-10\n",
       "6      10456     10459       7.541158e-10\n",
       "7      11210     11230       7.001994e-10\n",
       "8      11432     11435       6.133498e-10\n",
       "9      11207     11236       5.340508e-10\n",
       "10     10027     10037       4.080171e-10\n",
       "11     11370     11377       3.963302e-10\n",
       "12     11355     11367       5.751191e-11\n",
       "13     11362     11363       1.981677e-11\n",
       "14     10460     10472       1.983751e-12\n",
       "15     10309     10312       1.588337e-12"
      ]
     },
     "execution_count": 29,
     "metadata": {},
     "output_type": "execute_result"
    }
   ],
   "source": [
    "%%sql\n",
    "-- Check for overlaps between MODZCTA polygons\n",
    "\n",
    " SELECT \n",
    "    a.MODZCTA AS modzcta_a,\n",
    "    b.MODZCTA AS modzcta_b,\n",
    "    ST_Area(ST_Intersection(a.geom, b.geom)) AS intersection_area\n",
    "FROM modzcta a, modzcta b\n",
    "WHERE a.MODZCTA < b.MODZCTA \n",
    "    AND ST_Overlaps(a.geom, b.geom)\n",
    "ORDER BY intersection_area DESC"
   ]
  },
  {
   "cell_type": "code",
   "execution_count": 43,
   "id": "26e63dd2",
   "metadata": {},
   "outputs": [
    {
     "name": "stderr",
     "output_type": "stream",
     "text": [
      "/var/folders/vf/5vg5yq5n3dqcvvqg52qk6t5c0000gn/T/ipykernel_44524/1929512884.py:64: UserWarning: Legend does not support handles for PatchCollection instances.\n",
      "See: https://matplotlib.org/stable/tutorials/intermediate/legend_guide.html#implementing-a-custom-legend-handler\n",
      "  plt.legend()\n"
     ]
    },
    {
     "data": {
      "image/png": "[encoded data removed]",
      "text/plain": [
       "<Figure size 800x600 with 1 Axes>"
      ]
     },
     "metadata": {},
     "output_type": "display_data"
    },
    {
     "name": "stdout",
     "output_type": "stream",
     "text": [
      "Overlapping area between MODZCTA 11369 and 11370: 24.90 square meters\n",
      "Overlap percentage: 0.00026333%\n"
     ]
    }
   ],
   "source": [
    "import cartopy.crs as ccrs\n",
    "import cartopy.feature as cfeature\n",
    "import geopandas as gpd\n",
    "import matplotlib.pyplot as plt\n",
    "from shapely.wkt import loads\n",
    "\n",
    "# Fetch the first row of overlapping MODZCTA areas\n",
    "overlap_row = conn.execute(\"\"\"\n",
    "    SELECT \n",
    "        a.MODZCTA AS modzcta_a,\n",
    "        b.MODZCTA AS modzcta_b,\n",
    "        a.the_geom AS geom_a,\n",
    "        b.the_geom AS geom_b,\n",
    "        ST_Area(ST_Intersection(a.geom, b.geom)) AS intersection_area\n",
    "    FROM modzcta a, modzcta b\n",
    "    WHERE a.MODZCTA != b.MODZCTA\n",
    "        AND ST_Overlaps(a.geom, b.geom)\n",
    "    ORDER BY intersection_area DESC\n",
    "    LIMIT 1\n",
    "\"\"\").fetchone()\n",
    "\n",
    "if not overlap_row:\n",
    "    print(\"No overlapping MODZCTA areas found.\")\n",
    "    raise ValueError(\"No overlapping MODZCTA areas found.\")\n",
    "\n",
    "modzcta_a, modzcta_b, geom_a, geom_b, area = overlap_row\n",
    "\n",
    "# Convert WKT geometries to GeoDataFrames\n",
    "shape_a = loads(geom_a)\n",
    "shape_b = loads(geom_b)\n",
    "gdf_a = gpd.GeoDataFrame(geometry=[shape_a])\n",
    "gdf_b = gpd.GeoDataFrame(geometry=[shape_b])\n",
    "\n",
    "# Plot the overlapping MODZCTA areas\n",
    "plt.figure(figsize=(8, 6))\n",
    "ax = plt.axes(projection=ccrs.PlateCarree())\n",
    "\n",
    "ax.add_feature(cfeature.COASTLINE, linewidth=0.5)\n",
    "ax.add_feature(cfeature.BORDERS, linestyle=\":\")\n",
    "ax.add_feature(cfeature.LAND, edgecolor=\"black\", alpha=0.3)\n",
    "ax.add_feature(cfeature.OCEAN, alpha=0.3)\n",
    "\n",
    "gdf_a.plot(ax=plt.gca(), color=\"blue\", alpha=0.5, label=f\"MODZCTA {modzcta_a}\")\n",
    "gdf_b.plot(ax=plt.gca(), color=\"green\", alpha=0.5, label=f\"MODZCTA {modzcta_b}\")\n",
    "\n",
    "# Calculate and plot the overlapping area\n",
    "overlap_area = shape_a.intersection(shape_b)\n",
    "\n",
    "modzcta_a_gdf_projected = gpd.GeoDataFrame(geometry=[shape_a], crs=\"EPSG:4326\").to_crs(\n",
    "    \"EPSG:2263\"\n",
    ")\n",
    "modzcta_b_gdf_projected = gpd.GeoDataFrame(geometry=[shape_b], crs=\"EPSG:4326\").to_crs(\n",
    "    \"EPSG:2263\"\n",
    ")\n",
    "\n",
    "overlap_gdf = gpd.GeoDataFrame(geometry=[overlap_area], crs=\"EPSG:4326\")\n",
    "overlap_gdf.plot(ax=plt.gca(), color=\"red\", alpha=0.75, label=\"Overlapping Area\")\n",
    "\n",
    "# Zoom in on the overlapping area\n",
    "ax.set_extent(\n",
    "    [\n",
    "        overlap_area.bounds[0] - 0.001,\n",
    "        overlap_area.bounds[2] + 0.001,\n",
    "        overlap_area.bounds[1] - 0.001,\n",
    "        overlap_area.bounds[3] + 0.001,\n",
    "    ],\n",
    "    crs=ccrs.PlateCarree(),\n",
    ")\n",
    "\n",
    "plt.title(\"Overlapping MODZCTA Areas\")\n",
    "plt.legend()\n",
    "plt.show()\n",
    "\n",
    "# Calculate square meters of the overlapping area\n",
    "overlap_gdf_projected = overlap_gdf.to_crs(\"EPSG:2263\")  # NY State Plane\n",
    "overlap_area_ft2 = overlap_gdf_projected.geometry.area[0]\n",
    "overlap_area_m2 = overlap_area_ft2 * 0.092903  # Convert square feet to square meters\n",
    "\n",
    "print(\n",
    "    f\"Overlapping area between MODZCTA {modzcta_a} and {modzcta_b}: {overlap_area_m2:.2f} square meters\"\n",
    ")\n",
    "\n",
    "# Calculate area for the shapes\n",
    "modzcta_a_area_m2 = modzcta_a_gdf_projected.geometry.area[0] * 0.092903\n",
    "modzcta_b_area_m2 = modzcta_b_gdf_projected.geometry.area[0] * 0.092903\n",
    "\n",
    "total_area_m2 = modzcta_a_area_m2 + modzcta_b_area_m2\n",
    "overlap_percentage = (overlap_area_m2 / total_area_m2) * 100\n",
    "print(f\"Overlap percentage: {overlap_percentage:.8f}%\")"
   ]
  },
  {
   "cell_type": "markdown",
   "id": "9675d963",
   "metadata": {},
   "source": [
    "Overlapping area between MODZCTA geom areas does not seem significant for the level of analysis we are doing. The geometry of the MODZCTA areas is not perfect but it is good enough for our purposes."
   ]
  },
  {
   "cell_type": "code",
   "execution_count": 19,
   "id": "5076812b",
   "metadata": {},
   "outputs": [
    {
     "data": {
      "image/png": "[encoded data removed]",
      "text/plain": [
       "<Figure size 800x600 with 1 Axes>"
      ]
     },
     "metadata": {},
     "output_type": "display_data"
    }
   ],
   "source": [
    "# The following code will plot the longitude and latitude of the service requests\n",
    "# in a specific zip code and the corresponding MODZCTA area.\n",
    "# It will also calculate the distance from the service request location to the MODZCTA area boundary,\n",
    "# if the location is outside the MODZCTA area.\n",
    "\n",
    "import cartopy.crs as ccrs\n",
    "import cartopy.feature as cfeature\n",
    "import geopandas as gpd\n",
    "import matplotlib.pyplot as plt\n",
    "from shapely.geometry import Point\n",
    "from shapely.wkt import loads\n",
    "\n",
    "df = conn.execute(\"\"\"\n",
    "    SELECT * FROM (\n",
    "        SELECT \n",
    "            longitude,\n",
    "            latitude,\n",
    "            incident_zip\n",
    "        FROM service_requests_2024_modzcta \n",
    "        WHERE incident_zip = '10001'\n",
    "        -- Find service requests with coordinates outside the zip\n",
    "        AND not array_contains(ZCTA_1, incident_zip)\n",
    "    ) USING SAMPLE 25 ROWS\n",
    "\"\"\").fetch_df()\n",
    "\n",
    "plt.figure(figsize=(8, 6))\n",
    "\n",
    "OFFSET = 0.001\n",
    "ZIP = df[\"incident_zip\"][0]\n",
    "\n",
    "# Convert WKT geometry to a GeoDataFrame\n",
    "modzcta_geom = conn.execute(\n",
    "    \"\"\"\n",
    "    SELECT the_geom \n",
    "    FROM modzcta \n",
    "    WHERE array_contains(ZCTA, ?)\n",
    "\"\"\",\n",
    "    [ZIP],\n",
    ").fetchone()\n",
    "\n",
    "if not modzcta_geom:\n",
    "    print(\"No MODZCTA geometry found for the given zip code.\")\n",
    "    raise ValueError(\"No MODZCTA geometry found.\")\n",
    "\n",
    "# Parse WKT geometry using shapely\n",
    "modzcta_shape = loads(modzcta_geom[0])\n",
    "modzcta_gdf = gpd.GeoDataFrame(geometry=[modzcta_shape], crs=\"EPSG:4326\")\n",
    "\n",
    "# Add map features using Cartopy scaled to the MODZCTA area\n",
    "ax = plt.axes(projection=ccrs.PlateCarree())\n",
    "ax.set_extent(\n",
    "    [\n",
    "        modzcta_shape.bounds[0] - OFFSET,\n",
    "        modzcta_shape.bounds[2] + OFFSET,\n",
    "        modzcta_shape.bounds[1] - OFFSET,\n",
    "        modzcta_shape.bounds[3] + OFFSET,\n",
    "    ],\n",
    "    crs=ccrs.PlateCarree(),\n",
    ")\n",
    "\n",
    "ax.add_feature(cfeature.COASTLINE, linewidth=0.5)\n",
    "ax.add_feature(cfeature.BORDERS, linestyle=\":\")\n",
    "ax.add_feature(cfeature.LAND, edgecolor=\"black\", alpha=0.3)\n",
    "ax.add_feature(cfeature.OCEAN, alpha=0.3)\n",
    "ax.add_feature(cfeature.LAKES, edgecolor=\"black\", alpha=0.3)\n",
    "ax.add_feature(cfeature.RIVERS, edgecolor=\"blue\", alpha=0.3)\n",
    "\n",
    "modzcta_gdf.plot(ax=plt.gca(), color=\"none\", edgecolor=\"red\", linewidth=2)\n",
    "modzcta_gdf.plot(ax=plt.gca(), color=\"lightblue\", alpha=0.5)\n",
    "\n",
    "df[\"geometry\"] = df.apply(lambda row: Point(row[\"longitude\"], row[\"latitude\"]), axis=1)\n",
    "\n",
    "# Create a GeoDataFrame from the DataFrame\n",
    "df_gdf = gpd.GeoDataFrame(df, geometry=\"geometry\", crs=\"EPSG:4326\").to_crs(\"EPSG:2263\")\n",
    "\n",
    "# Convert the MODZCTA geometry and points to the same CRS for accurate distance calculations\n",
    "modzcta_gdf_projected = modzcta_gdf.to_crs(\"EPSG:2263\")  # NY State Plane\n",
    "\n",
    "# Calculate distances for points outside the MODZCTA area\n",
    "modzcta_shape_projected = modzcta_gdf_projected.geometry.iloc[0]\n",
    "for _, row in df_gdf.iterrows():\n",
    "    point_projected = row[\"geometry\"]\n",
    "    if not modzcta_shape_projected.contains(point_projected):\n",
    "        distance_feet = point_projected.distance(modzcta_shape_projected.boundary)\n",
    "        distance_meters = distance_feet * 0.3048  # Convert feet to meters\n",
    "        if distance_meters > 0:\n",
    "            plt.text(\n",
    "                row[\"longitude\"],\n",
    "                row[\"latitude\"],\n",
    "                f\"{distance_meters:.2f} m\",\n",
    "                fontsize=8,\n",
    "                color=\"black\",\n",
    "            )\n",
    "\n",
    "plt.scatter(\n",
    "    df[\"longitude\"],\n",
    "    df[\"latitude\"],\n",
    "    c=\"blue\",\n",
    "    marker=\"o\",\n",
    "    label=\"Service Requests\",\n",
    "    alpha=0.2,\n",
    ")\n",
    "plt.title(f\"Service Requests in Zip {ZIP} outside MODZCTA Area\")\n",
    "\n",
    "plt.legend()\n",
    "plt.show()"
   ]
  },
  {
   "cell_type": "markdown",
   "id": "112b24f8",
   "metadata": {},
   "source": [
    "Relying on the MODZCTA geometry to match service requests to MODZCTA areas is a more complex solution than using the ZCTA to incident_zip mapping. The latter is simpler and faster, but it may not be as accurate in some cases. The choice between the two methods depends on the specific requirements of the analysis and the acceptable level of error.\n",
    "\n",
    "As seen in the above example, the assigned incident_zip codes are not always wihthin the MODZCTA area. For our purposes we are probably better off using the ZCTA to incident_zip mapping instead of the more complex geometry matching."
   ]
  }
 ],
 "metadata": {
  "kernelspec": {
   "display_name": ".venv",
   "language": "python",
   "name": "python3"
  },
  "language_info": {
   "codemirror_mode": {
    "name": "ipython",
    "version": 3
   },
   "file_extension": ".py",
   "mimetype": "text/x-python",
   "name": "python",
   "nbconvert_exporter": "python",
   "pygments_lexer": "ipython3",
   "version": "3.13.1"
  }
 },
 "nbformat": 4,
 "nbformat_minor": 5
}
