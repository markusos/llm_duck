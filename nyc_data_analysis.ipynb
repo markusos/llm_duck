{
 "cells": [
  {
   "cell_type": "code",
   "execution_count": 4,
   "id": "5637fdb1",
   "metadata": {},
   "outputs": [
    {
     "name": "stdout",
     "output_type": "stream",
     "text": [
      "The sql extension is already loaded. To reload it, use:\n",
      "  %reload_ext sql\n"
     ]
    }
   ],
   "source": [
    "import duckdb\n",
    "\n",
    "%load_ext sql\n",
    "conn = duckdb.connect(database=\":memory:\", read_only=False)\n",
    "\n",
    "%sql conn --alias duckdb"
   ]
  },
  {
   "cell_type": "code",
   "execution_count": 5,
   "id": "736a538d",
   "metadata": {
    "vscode": {
     "languageId": "sql"
    }
   },
   "outputs": [
    {
     "data": {
      "text/html": [
       "<span style=\"None\">Running query in &#x27;duckdb&#x27;</span>"
      ],
      "text/plain": [
       "Running query in 'duckdb'"
      ]
     },
     "metadata": {},
     "output_type": "display_data"
    },
    {
     "data": {
      "text/html": [
       "<div>\n",
       "<style scoped>\n",
       "    .dataframe tbody tr th:only-of-type {\n",
       "        vertical-align: middle;\n",
       "    }\n",
       "\n",
       "    .dataframe tbody tr th {\n",
       "        vertical-align: top;\n",
       "    }\n",
       "\n",
       "    .dataframe thead th {\n",
       "        text-align: right;\n",
       "    }\n",
       "</style>\n",
       "<table border=\"1\" class=\"dataframe\">\n",
       "  <thead>\n",
       "    <tr style=\"text-align: right;\">\n",
       "      <th></th>\n",
       "      <th>Count</th>\n",
       "    </tr>\n",
       "  </thead>\n",
       "  <tbody>\n",
       "    <tr>\n",
       "      <th>0</th>\n",
       "      <td>3446563</td>\n",
       "    </tr>\n",
       "  </tbody>\n",
       "</table>\n",
       "</div>"
      ],
      "text/plain": [
       "     Count\n",
       "0  3446563"
      ]
     },
     "execution_count": 5,
     "metadata": {},
     "output_type": "execute_result"
    }
   ],
   "source": [
    "%%sql\n",
    "\n",
    "CREATE OR REPLACE TABLE service_requests_2024 AS \n",
    "    SELECT * FROM  './data/cityofnewyork/service_requests_2024.parquet'"
   ]
  },
  {
   "cell_type": "code",
   "execution_count": 6,
   "id": "307393b7",
   "metadata": {
    "vscode": {
     "languageId": "sql"
    }
   },
   "outputs": [
    {
     "data": {
      "text/html": [
       "<span style=\"None\">Running query in &#x27;duckdb&#x27;</span>"
      ],
      "text/plain": [
       "Running query in 'duckdb'"
      ]
     },
     "metadata": {},
     "output_type": "display_data"
    },
    {
     "data": {
      "text/html": [
       "<div>\n",
       "<style scoped>\n",
       "    .dataframe tbody tr th:only-of-type {\n",
       "        vertical-align: middle;\n",
       "    }\n",
       "\n",
       "    .dataframe tbody tr th {\n",
       "        vertical-align: top;\n",
       "    }\n",
       "\n",
       "    .dataframe thead th {\n",
       "        text-align: right;\n",
       "    }\n",
       "</style>\n",
       "<table border=\"1\" class=\"dataframe\">\n",
       "  <thead>\n",
       "    <tr style=\"text-align: right;\">\n",
       "      <th></th>\n",
       "      <th>Count</th>\n",
       "    </tr>\n",
       "  </thead>\n",
       "  <tbody>\n",
       "    <tr>\n",
       "      <th>0</th>\n",
       "      <td>178</td>\n",
       "    </tr>\n",
       "  </tbody>\n",
       "</table>\n",
       "</div>"
      ],
      "text/plain": [
       "   Count\n",
       "0    178"
      ]
     },
     "execution_count": 6,
     "metadata": {},
     "output_type": "execute_result"
    }
   ],
   "source": [
    "%%sql\n",
    "\n",
    "CREATE OR REPLACE TABLE modzcta AS\n",
    "    SELECT \n",
    "        MODZCTA,\n",
    "        label,\n",
    "        STRING_SPLIT(ZCTA, ', ') AS ZCTA,\n",
    "        pop_est, \n",
    "        the_geom,\n",
    "    FROM './data/cityofnewyork/modzcta.parquet'"
   ]
  },
  {
   "cell_type": "code",
   "execution_count": null,
   "id": "ea1a879c",
   "metadata": {
    "vscode": {
     "languageId": "sql"
    }
   },
   "outputs": [
    {
     "data": {
      "text/html": [
       "<span style=\"None\">Running query in &#x27;duckdb&#x27;</span>"
      ],
      "text/plain": [
       "Running query in 'duckdb'"
      ]
     },
     "metadata": {},
     "output_type": "display_data"
    },
    {
     "data": {
      "text/html": [
       "<div>\n",
       "<style scoped>\n",
       "    .dataframe tbody tr th:only-of-type {\n",
       "        vertical-align: middle;\n",
       "    }\n",
       "\n",
       "    .dataframe tbody tr th {\n",
       "        vertical-align: top;\n",
       "    }\n",
       "\n",
       "    .dataframe thead th {\n",
       "        text-align: right;\n",
       "    }\n",
       "</style>\n",
       "<table border=\"1\" class=\"dataframe\">\n",
       "  <thead>\n",
       "    <tr style=\"text-align: right;\">\n",
       "      <th></th>\n",
       "      <th>MODZCTA</th>\n",
       "      <th>event_month</th>\n",
       "      <th>events_per_capita</th>\n",
       "    </tr>\n",
       "  </thead>\n",
       "  <tbody>\n",
       "    <tr>\n",
       "      <th>0</th>\n",
       "      <td>10466</td>\n",
       "      <td>2024-12-01</td>\n",
       "      <td>0.2748</td>\n",
       "    </tr>\n",
       "    <tr>\n",
       "      <th>1</th>\n",
       "      <td>10004</td>\n",
       "      <td>2024-10-01</td>\n",
       "      <td>0.2414</td>\n",
       "    </tr>\n",
       "    <tr>\n",
       "      <th>2</th>\n",
       "      <td>11239</td>\n",
       "      <td>2024-12-01</td>\n",
       "      <td>0.1662</td>\n",
       "    </tr>\n",
       "    <tr>\n",
       "      <th>3</th>\n",
       "      <td>11366</td>\n",
       "      <td>2024-06-01</td>\n",
       "      <td>0.1576</td>\n",
       "    </tr>\n",
       "    <tr>\n",
       "      <th>4</th>\n",
       "      <td>10006</td>\n",
       "      <td>2024-07-01</td>\n",
       "      <td>0.1094</td>\n",
       "    </tr>\n",
       "    <tr>\n",
       "      <th>5</th>\n",
       "      <td>11101</td>\n",
       "      <td>2024-09-01</td>\n",
       "      <td>0.1011</td>\n",
       "    </tr>\n",
       "    <tr>\n",
       "      <th>6</th>\n",
       "      <td>10018</td>\n",
       "      <td>2024-10-01</td>\n",
       "      <td>0.0950</td>\n",
       "    </tr>\n",
       "    <tr>\n",
       "      <th>7</th>\n",
       "      <td>10007</td>\n",
       "      <td>2024-09-01</td>\n",
       "      <td>0.0917</td>\n",
       "    </tr>\n",
       "    <tr>\n",
       "      <th>8</th>\n",
       "      <td>10464</td>\n",
       "      <td>2024-06-01</td>\n",
       "      <td>0.0862</td>\n",
       "    </tr>\n",
       "    <tr>\n",
       "      <th>9</th>\n",
       "      <td>10036</td>\n",
       "      <td>2024-10-01</td>\n",
       "      <td>0.0808</td>\n",
       "    </tr>\n",
       "  </tbody>\n",
       "</table>\n",
       "</div>"
      ],
      "text/plain": [
       "  MODZCTA event_month  events_per_capita\n",
       "0   10466  2024-12-01             0.2748\n",
       "1   10004  2024-10-01             0.2414\n",
       "2   11239  2024-12-01             0.1662\n",
       "3   11366  2024-06-01             0.1576\n",
       "4   10006  2024-07-01             0.1094\n",
       "5   11101  2024-09-01             0.1011\n",
       "6   10018  2024-10-01             0.0950\n",
       "7   10007  2024-09-01             0.0917\n",
       "8   10464  2024-06-01             0.0862\n",
       "9   10036  2024-10-01             0.0808"
      ]
     },
     "execution_count": 19,
     "metadata": {},
     "output_type": "execute_result"
    }
   ],
   "source": [
    "%%sql\n",
    "\n",
    "-- This query identifies the top 10 MODZCTAs with the highest number of service requests per capita for any given month in 2024.\n",
    "-- using the Interquartile Range (IQR) method to detect outliers.\n",
    "\n",
    "WITH monthly_events AS (\n",
    "    SELECT \n",
    "        m.MODZCTA,\n",
    "        DATE_TRUNC('month', sr.created_date) AS event_month,\n",
    "        COUNT(*) / NULLIF(m.pop_est, 0) AS events_per_pop\n",
    "    FROM service_requests_2024 sr\n",
    "    LEFT JOIN modzcta m\n",
    "        ON array_contains(m.ZCTA, sr.incident_zip)\n",
    "    GROUP BY \n",
    "        m.MODZCTA,\n",
    "        m.pop_est,\n",
    "        event_month\n",
    "),\n",
    "monthly_bounds AS (\n",
    "    SELECT \n",
    "        event_month,\n",
    "        -- Calculate the 75th and 25th percentiles for the events per population\n",
    "        PERCENTILE_CONT(0.75) WITHIN GROUP (ORDER BY events_per_pop) AS Q3,\n",
    "        PERCENTILE_CONT(0.25) WITHIN GROUP (ORDER BY events_per_pop) AS Q1\n",
    "    FROM monthly_events\n",
    "    GROUP BY event_month\n",
    ")\n",
    "SELECT \n",
    "    me.MODZCTA,\n",
    "    me.event_month,\n",
    "    ROUND(me.events_per_pop, 4) AS events_per_capita\n",
    "FROM monthly_events me\n",
    "JOIN monthly_bounds mb \n",
    "    ON me.event_month = mb.event_month\n",
    "-- Find outliers with IQR method    \n",
    "WHERE me.events_per_pop > mb.Q3 + 1.5 * (mb.Q3 - mb.Q1)\n",
    "   OR me.events_per_pop < mb.Q1 - 1.5 * (mb.Q3 - mb.Q1)\n",
    "QUALIFY ROW_NUMBER() OVER (PARTITION BY MODZCTA ORDER BY events_per_pop DESC) = 1\n",
    "ORDER BY events_per_capita DESC\n",
    "LIMIT 10;"
   ]
  },
  {
   "cell_type": "code",
   "execution_count": 24,
   "id": "0b40b362",
   "metadata": {
    "vscode": {
     "languageId": "sql"
    }
   },
   "outputs": [
    {
     "data": {
      "text/html": [
       "<span style=\"None\">Running query in &#x27;duckdb&#x27;</span>"
      ],
      "text/plain": [
       "Running query in 'duckdb'"
      ]
     },
     "metadata": {},
     "output_type": "display_data"
    },
    {
     "data": {
      "text/html": [
       "<div>\n",
       "<style scoped>\n",
       "    .dataframe tbody tr th:only-of-type {\n",
       "        vertical-align: middle;\n",
       "    }\n",
       "\n",
       "    .dataframe tbody tr th {\n",
       "        vertical-align: top;\n",
       "    }\n",
       "\n",
       "    .dataframe thead th {\n",
       "        text-align: right;\n",
       "    }\n",
       "</style>\n",
       "<table border=\"1\" class=\"dataframe\">\n",
       "  <thead>\n",
       "    <tr style=\"text-align: right;\">\n",
       "      <th></th>\n",
       "      <th>MODZCTA</th>\n",
       "      <th>event_month</th>\n",
       "      <th>category</th>\n",
       "      <th>subcategory</th>\n",
       "      <th>events_per_capita</th>\n",
       "    </tr>\n",
       "  </thead>\n",
       "  <tbody>\n",
       "    <tr>\n",
       "      <th>0</th>\n",
       "      <td>10466</td>\n",
       "      <td>2024-12-01</td>\n",
       "      <td>Public Safety &amp; Order</td>\n",
       "      <td>Noise &amp; Disturbances</td>\n",
       "      <td>0.2399</td>\n",
       "    </tr>\n",
       "    <tr>\n",
       "      <th>1</th>\n",
       "      <td>11239</td>\n",
       "      <td>2024-12-01</td>\n",
       "      <td>Public Safety &amp; Order</td>\n",
       "      <td>Parking</td>\n",
       "      <td>0.1318</td>\n",
       "    </tr>\n",
       "    <tr>\n",
       "      <th>2</th>\n",
       "      <td>11366</td>\n",
       "      <td>2024-02-01</td>\n",
       "      <td>Public Safety &amp; Order</td>\n",
       "      <td>Non-Emergency Police Matters</td>\n",
       "      <td>0.0881</td>\n",
       "    </tr>\n",
       "    <tr>\n",
       "      <th>3</th>\n",
       "      <td>10004</td>\n",
       "      <td>2024-09-01</td>\n",
       "      <td>Consumer &amp; Business Services</td>\n",
       "      <td>Consumer Complaints</td>\n",
       "      <td>0.0849</td>\n",
       "    </tr>\n",
       "    <tr>\n",
       "      <th>4</th>\n",
       "      <td>10004</td>\n",
       "      <td>2024-10-01</td>\n",
       "      <td>Public Safety &amp; Order</td>\n",
       "      <td>Noise &amp; Disturbances</td>\n",
       "      <td>0.0769</td>\n",
       "    </tr>\n",
       "    <tr>\n",
       "      <th>5</th>\n",
       "      <td>10004</td>\n",
       "      <td>2024-07-01</td>\n",
       "      <td>Public Safety &amp; Order</td>\n",
       "      <td>Parking</td>\n",
       "      <td>0.0515</td>\n",
       "    </tr>\n",
       "    <tr>\n",
       "      <th>6</th>\n",
       "      <td>11366</td>\n",
       "      <td>2024-04-01</td>\n",
       "      <td>Public Safety &amp; Order</td>\n",
       "      <td>Noise &amp; Disturbances</td>\n",
       "      <td>0.0513</td>\n",
       "    </tr>\n",
       "    <tr>\n",
       "      <th>7</th>\n",
       "      <td>10006</td>\n",
       "      <td>2024-05-01</td>\n",
       "      <td>Consumer &amp; Business Services</td>\n",
       "      <td>Consumer Complaints</td>\n",
       "      <td>0.0510</td>\n",
       "    </tr>\n",
       "    <tr>\n",
       "      <th>8</th>\n",
       "      <td>11101</td>\n",
       "      <td>2024-09-01</td>\n",
       "      <td>Public Safety &amp; Order</td>\n",
       "      <td>Parking</td>\n",
       "      <td>0.0458</td>\n",
       "    </tr>\n",
       "    <tr>\n",
       "      <th>9</th>\n",
       "      <td>11366</td>\n",
       "      <td>2024-08-01</td>\n",
       "      <td>Consumer &amp; Business Services</td>\n",
       "      <td>Transportation Services</td>\n",
       "      <td>0.0450</td>\n",
       "    </tr>\n",
       "  </tbody>\n",
       "</table>\n",
       "</div>"
      ],
      "text/plain": [
       "  MODZCTA event_month                      category  \\\n",
       "0   10466  2024-12-01         Public Safety & Order   \n",
       "1   11239  2024-12-01         Public Safety & Order   \n",
       "2   11366  2024-02-01         Public Safety & Order   \n",
       "3   10004  2024-09-01  Consumer & Business Services   \n",
       "4   10004  2024-10-01         Public Safety & Order   \n",
       "5   10004  2024-07-01         Public Safety & Order   \n",
       "6   11366  2024-04-01         Public Safety & Order   \n",
       "7   10006  2024-05-01  Consumer & Business Services   \n",
       "8   11101  2024-09-01         Public Safety & Order   \n",
       "9   11366  2024-08-01  Consumer & Business Services   \n",
       "\n",
       "                    subcategory  events_per_capita  \n",
       "0          Noise & Disturbances             0.2399  \n",
       "1                       Parking             0.1318  \n",
       "2  Non-Emergency Police Matters             0.0881  \n",
       "3           Consumer Complaints             0.0849  \n",
       "4          Noise & Disturbances             0.0769  \n",
       "5                       Parking             0.0515  \n",
       "6          Noise & Disturbances             0.0513  \n",
       "7           Consumer Complaints             0.0510  \n",
       "8                       Parking             0.0458  \n",
       "9       Transportation Services             0.0450  "
      ]
     },
     "execution_count": 24,
     "metadata": {},
     "output_type": "execute_result"
    }
   ],
   "source": [
    "%%sql\n",
    "\n",
    "CREATE OR REPLACE TABLE llm_categorize_output_2024 AS \n",
    "    SELECT * FROM './output/llm_categorize_output_2024.csv';\n",
    "\n",
    "WITH categorized_events AS (\n",
    "    SELECT \n",
    "        m.MODZCTA,\n",
    "        DATE_TRUNC('month', sr.created_date) AS event_month,\n",
    "        co.category,\n",
    "        co.subcategory,\n",
    "        COUNT(*) / NULLIF(m.pop_est, 0) AS events_per_pop\n",
    "    FROM service_requests_2024 sr\n",
    "    LEFT JOIN modzcta m\n",
    "        ON array_contains(m.ZCTA, sr.incident_zip)\n",
    "    LEFT JOIN llm_categorize_output_2024 co\n",
    "        ON sr.agency = co.agency\n",
    "        AND sr.complaint_type = co.complaint_type\n",
    "        AND sr.descriptor = co.descriptor\n",
    "    GROUP BY \n",
    "        m.MODZCTA,\n",
    "        m.pop_est,\n",
    "        event_month,\n",
    "        co.category,\n",
    "        co.subcategory\n",
    "),\n",
    "categorized_bounds AS (\n",
    "    SELECT \n",
    "        event_month,\n",
    "        category,\n",
    "        subcategory,\n",
    "        PERCENTILE_CONT(0.75) WITHIN GROUP (ORDER BY events_per_pop) AS Q3,\n",
    "        PERCENTILE_CONT(0.25) WITHIN GROUP (ORDER BY events_per_pop) AS Q1\n",
    "    FROM categorized_events\n",
    "    GROUP BY event_month, category, subcategory\n",
    ")\n",
    "SELECT \n",
    "    ce.MODZCTA,\n",
    "    ce.event_month,\n",
    "    ce.category,\n",
    "    ce.subcategory,\n",
    "    ROUND(ce.events_per_pop, 4) AS events_per_capita\n",
    "FROM categorized_events ce\n",
    "JOIN categorized_bounds cb \n",
    "    ON ce.event_month = cb.event_month\n",
    "    AND ce.category = cb.category\n",
    "    AND ce.subcategory = cb.subcategory\n",
    "WHERE ce.events_per_pop > cb.Q3 + 1.5 * (cb.Q3 - cb.Q1)\n",
    "   OR ce.events_per_pop < cb.Q1 - 1.5 * (cb.Q3 - cb.Q1)\n",
    "QUALIFY ROW_NUMBER() OVER (PARTITION BY MODZCTA, ce.category, ce.subcategory ORDER BY events_per_pop DESC) = 1\n",
    "ORDER BY events_per_capita DESC\n",
    "LIMIT 10;"
   ]
  }
 ],
 "metadata": {
  "kernelspec": {
   "display_name": ".venv",
   "language": "python",
   "name": "python3"
  },
  "language_info": {
   "codemirror_mode": {
    "name": "ipython",
    "version": 3
   },
   "file_extension": ".py",
   "mimetype": "text/x-python",
   "name": "python",
   "nbconvert_exporter": "python",
   "pygments_lexer": "ipython3",
   "version": "3.13.1"
  }
 },
 "nbformat": 4,
 "nbformat_minor": 5
}
